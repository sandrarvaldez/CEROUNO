{
 "cells": [
  {
   "cell_type": "code",
   "execution_count": 1,
   "metadata": {},
   "outputs": [],
   "source": [
    "# Importo Librerias\n",
    "import pandas as pd\n",
    "import numpy as np\n",
    "import matplotlib.pyplot as plt"
   ]
  },
  {
   "cell_type": "code",
   "execution_count": 2,
   "metadata": {},
   "outputs": [
    {
     "name": "stdout",
     "output_type": "stream",
     "text": [
      "    Precio  Demanda\n",
      "0      4.0        7\n",
      "1      3.5        7\n",
      "2      5.0        5\n",
      "3      6.0        4\n",
      "4      6.5        4\n",
      "5      7.0        4\n",
      "6      2.0        8\n",
      "7      4.0        6\n",
      "8      5.5        5\n",
      "9      3.0        7\n",
      "10     3.5        7\n",
      "11     2.0        8\n",
      "12     2.0        8\n",
      "13     3.0        8\n",
      "14     3.0        7\n",
      "15     1.5        9\n",
      "16     3.0        8\n",
      "17     4.8        5\n",
      "18     5.0        5\n",
      "19     4.0        7\n",
      "20     4.5        7\n",
      "21     4.0        8\n",
      "22     7.5        3\n",
      "23     4.0        7\n",
      "24     6.5        4\n",
      "25     4.0        7\n",
      "26     7.0        3\n",
      "27     5.5        5\n",
      "28     7.0        5\n",
      "29     3.5        7\n",
      "30     7.0        5\n",
      "31     2.0        8\n"
     ]
    }
   ],
   "source": [
    "# leo mi base de datos\n",
    "train=pd.read_csv('predi2015.csv')\n",
    "list(train)\n",
    "print(train)"
   ]
  },
  {
   "cell_type": "code",
   "execution_count": 3,
   "metadata": {},
   "outputs": [
    {
     "data": {
      "image/png": "[encoded data removed]",
      "text/plain": [
       "<Figure size 432x288 with 1 Axes>"
      ]
     },
     "metadata": {
      "needs_background": "light"
     },
     "output_type": "display_data"
    }
   ],
   "source": [
    "# Estamos revisando precio y demanda\n",
    "train.plot.scatter('Precio','Demanda')\n",
    "plt.show()"
   ]
  },
  {
   "cell_type": "code",
   "execution_count": 4,
   "metadata": {},
   "outputs": [
    {
     "data": {
      "image/png": "[encoded data removed]",
      "text/plain": [
       "<Figure size 432x288 with 1 Axes>"
      ]
     },
     "metadata": {
      "needs_background": "light"
     },
     "output_type": "display_data"
    },
    {
     "name": "stdout",
     "output_type": "stream",
     "text": [
      "-0.8955541374175713 10.127938204637317\n"
     ]
    }
   ],
   "source": [
    "# REGRESION LINE \n",
    "\n",
    "plt.scatter(train.Precio, train.Demanda, color='lightblue')\n",
    "a,b = np.polyfit((train.Precio), train.Demanda, 1)\n",
    "x1= min(train.Precio)\n",
    "x2= max(train.Demanda)\n",
    "plt.plot([x1,x2], [a*x1 + b, a*x2 + b], color='red')\n",
    "plt.show()\n",
    "print (a,b)\n",
    "\n",
    "\n",
    "# y = -.9419x + 10.162\n"
   ]
  },
  {
   "cell_type": "code",
   "execution_count": 5,
   "metadata": {},
   "outputs": [
    {
     "name": "stdout",
     "output_type": "stream",
     "text": [
      "Predecir demanda para 2.5:  7.889052861093389\n",
      "Predecir demanda para 1.5:  8.78460699851096\n",
      "Predecir demanda para 5.75:  4.978501914486282\n",
      "Predecir demanda para 6.75:  4.082947777068711\n",
      "Predecir demanda para 7.10:  3.769503828972561\n"
     ]
    }
   ],
   "source": [
    "print('Predecir demanda para 2.5: ', a*2.5+b)\n",
    "print('Predecir demanda para 1.5: ', a*1.5+b)\n",
    "print('Predecir demanda para 5.75: ', a*5.75+b)\n",
    "print('Predecir demanda para 6.75: ', a*6.75+b)\n",
    "print('Predecir demanda para 7.10: ', a*7.10+b)"
   ]
  }
 ],
 "metadata": {
  "kernelspec": {
   "display_name": "Python 3",
   "language": "python",
   "name": "python3"
  },
  "language_info": {
   "codemirror_mode": {
    "name": "ipython",
    "version": 3
   },
   "file_extension": ".py",
   "mimetype": "text/x-python",
   "name": "python",
   "nbconvert_exporter": "python",
   "pygments_lexer": "ipython3",
   "version": "3.7.0"
  }
 },
 "nbformat": 4,
 "nbformat_minor": 2
}
